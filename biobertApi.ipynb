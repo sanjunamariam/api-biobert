{
  "nbformat": 4,
  "nbformat_minor": 0,
  "metadata": {
    "accelerator": "GPU",
    "colab": {
      "name": "biobertApi.ipynb",
      "provenance": []
    },
    "kernelspec": {
      "display_name": "Python 3",
      "name": "python3"
    },
    "language_info": {
      "name": "python"
    }
  },
  "cells": [
    {
      "cell_type": "code",
      "metadata": {
        "id": "5DHAB5PH0nIz"
      },
      "source": [
        "import requests"
      ],
      "execution_count": 25,
      "outputs": []
    },
    {
      "cell_type": "code",
      "metadata": {
        "id": "lQL8-Q0oLl-l"
      },
      "source": [
        "def term_extraction(text,out,type):\n",
        "\n",
        "  denotations=out['denotations']\n",
        "  relavent_terms=[]\n",
        "  \n",
        "  if type=='drug':\n",
        "    drug_terms=[]\n",
        "    for i in denotations:\n",
        "      if i['obj']== 'drug':\n",
        "        drug_terms.append((i['span']['begin'],i['span']['end']))\n",
        "   \n",
        "    for i in drug_terms:\n",
        "      start=i[0]\n",
        "      end=i[1]\n",
        "      relavent_terms.append(text[start:end])\n",
        "\n",
        "  if type=='disease':\n",
        "    species_terms=[]\n",
        "    for i in denotations:\n",
        "      if i['obj']== 'disease':\n",
        "        species_terms.append((i['span']['begin'],i['span']['end']))\n",
        "    \n",
        "    for i in species_terms:\n",
        "      start=i[0]\n",
        "      end=i[1]\n",
        "      relavent_terms.append(text[start:end])\n",
        "\n",
        "\n",
        "  if type=='species':\n",
        "    species_terms=[]\n",
        "    for i in denotations:\n",
        "      if i['obj']== 'species':\n",
        "        species_terms.append((i['span']['begin'],i['span']['end']))\n",
        "    \n",
        "    for i in species_terms:\n",
        "      start=i[0]\n",
        "      end=i[1]\n",
        "      relavent_terms.append(text[start:end])\n",
        "\n",
        "  return(relavent_terms)\n"
      ],
      "execution_count": 30,
      "outputs": []
    },
    {
      "cell_type": "code",
      "metadata": {
        "id": "OfnvWQqpUIBL"
      },
      "source": [
        "def query_raw(text, url=\"https://bern.korea.ac.kr/plain\"):\n",
        "  return requests.post(url, data={'sample_text': text}).json()\n"
      ],
      "execution_count": 26,
      "outputs": []
    },
    {
      "cell_type": "code",
      "metadata": {
        "colab": {
          "base_uri": "https://localhost:8080/"
        },
        "id": "ITnD2KY9ecdf",
        "outputId": "9f42e386-18b5-443a-8768-940d7a028b47"
      },
      "source": [
        "text = \"X-rays were negative and physical assessment determined soft tissue damage to the lateral aspect of her ankle. She was initially treated with ice, an ace wrap, crutches and mild pain medications (Tylenol with codeine)\"\n",
        "text2 = \"It is a skin disease causing much itchiness. Scratching leads to redness, swelling, cracking, weeping clear fluid, crusting, and scaling.\"\n",
        "out=query_raw(text)\n",
        "print(out)\n",
        "print(term_extraction(text,out,'drug'))\n",
        "print(term_extraction(text,out,'disease'))\n",
        "print(term_extraction(text,out,'species'))"
      ],
      "execution_count": 32,
      "outputs": [
        {
          "output_type": "stream",
          "name": "stdout",
          "text": [
            "{'project': 'BERN', 'sourcedb': '', 'sourceid': '4c638f6756b4fc58d16f8d6faa0f773b3cbc3abcd24ccb4794f309c6-Thread-34953488', 'text': 'X-rays were negative and physical assessment determined soft tissue damage to the lateral aspect of her ankle. She was initially treated with ice, an ace wrap, crutches and mild pain medications (Tylenol with codeine)', 'denotations': [{'id': ['MESH:D000082', 'BERN:4182303'], 'span': {'begin': 196, 'end': 203}, 'obj': 'drug'}, {'id': ['CHEBI:57871', 'BERN:298811803'], 'span': {'begin': 209, 'end': 216}, 'obj': 'drug'}], 'timestamp': 'Fri Sep 24 10:37:21 +0000 2021', 'logits': {'disease': [], 'gene': [], 'drug': [[{'start': 196, 'end': 203, 'id': 'MESH:D000082\\tBERN:4182303'}, 0.9999947547912598], [{'start': 209, 'end': 216, 'id': 'CHEBI:57871\\tBERN:298811803'}, 0.9999945163726807]], 'species': []}}\n",
            "['Tylenol', 'codeine']\n",
            "[]\n",
            "[]\n"
          ]
        }
      ]
    },
    {
      "cell_type": "code",
      "metadata": {
        "id": "47kKVkIeX7A-"
      },
      "source": [
        ""
      ],
      "execution_count": 30,
      "outputs": []
    }
  ]
}